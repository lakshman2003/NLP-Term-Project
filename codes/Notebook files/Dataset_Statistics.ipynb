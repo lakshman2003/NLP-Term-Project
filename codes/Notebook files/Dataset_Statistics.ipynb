{
  "nbformat": 4,
  "nbformat_minor": 0,
  "metadata": {
    "colab": {
      "provenance": [],
      "collapsed_sections": []
    },
    "kernelspec": {
      "name": "python3",
      "display_name": "Python 3"
    },
    "language_info": {
      "name": "python"
    }
  },
  "cells": [
    {
      "cell_type": "code",
      "execution_count": null,
      "metadata": {
        "colab": {
          "base_uri": "https://localhost:8080/"
        },
        "id": "rtvtuXNI9o70",
        "outputId": "aca7fed6-d453-4089-af56-efee609e6042"
      },
      "outputs": [
        {
          "output_type": "stream",
          "name": "stdout",
          "text": [
            "Mounted at /content/drive\n"
          ]
        }
      ],
      "source": [
        "from google.colab import drive\n",
        "drive.mount('/content/drive')"
      ]
    },
    {
      "cell_type": "code",
      "source": [
        "lines = []\n",
        "with open('/content/drive/MyDrive/bert_data/train/train_bert_sent.txt') as f:\n",
        "    [lines.append(line) for line in f.readlines()]\n",
        "\n",
        "print(\"Number of Sentences in Train Set:\", len(lines))"
      ],
      "metadata": {
        "colab": {
          "base_uri": "https://localhost:8080/"
        },
        "id": "E07C3YoyCYsy",
        "outputId": "80843be6-792c-4f23-b329-9fe18b14b7bb"
      },
      "execution_count": null,
      "outputs": [
        {
          "output_type": "stream",
          "name": "stdout",
          "text": [
            "Number of Sentences in Train Set: 761\n"
          ]
        }
      ]
    },
    {
      "cell_type": "code",
      "source": [
        "lines = []\n",
        "with open('/content/drive/MyDrive/bert_data/test/test_bert_sent.txt') as f:\n",
        "    [lines.append(line) for line in f.readlines()]\n",
        "\n",
        "print(\"Number of Sentences in Test Set:\", len(lines))"
      ],
      "metadata": {
        "colab": {
          "base_uri": "https://localhost:8080/"
        },
        "id": "3BbEsG5lDkpC",
        "outputId": "0b17705f-9e31-4b36-f0ba-2f995350ca89"
      },
      "execution_count": null,
      "outputs": [
        {
          "output_type": "stream",
          "name": "stdout",
          "text": [
            "Number of Sentences in Test Set: 205\n"
          ]
        }
      ]
    },
    {
      "cell_type": "code",
      "source": [
        "lines = []\n",
        "with open('/content/drive/MyDrive/bert_data/dev/dev_bert_sent.txt') as f:\n",
        "    [lines.append(line) for line in f.readlines()]\n",
        "\n",
        "print(\"Number of Sentences in Dev Set:\", len(lines))"
      ],
      "metadata": {
        "colab": {
          "base_uri": "https://localhost:8080/"
        },
        "id": "o2Oj6Ze0EEou",
        "outputId": "50a3c35f-5150-4a3d-9039-6ddea897b3f2"
      },
      "execution_count": null,
      "outputs": [
        {
          "output_type": "stream",
          "name": "stdout",
          "text": [
            "Number of Sentences in Dev Set: 182\n"
          ]
        }
      ]
    },
    {
      "cell_type": "code",
      "source": [
        "lines = []\n",
        "with open('/content/drive/MyDrive/bert_data/train/train_bert_sent.txt') as f:\n",
        "    for line in f.readlines():\n",
        "        line = line.split()\n",
        "        lines.append(len(line))\n",
        "        #print(line)\n",
        "\n",
        "print(\"Average Sentence Length Train Set:\", int(sum(lines)/len(lines)))\n",
        "print(\"Maximum Sentence Length Train Set:\", max(lines))"
      ],
      "metadata": {
        "colab": {
          "base_uri": "https://localhost:8080/"
        },
        "id": "IXbXsp4uETwQ",
        "outputId": "fe73bf00-8569-4216-9aba-f6e848c50c25"
      },
      "execution_count": null,
      "outputs": [
        {
          "output_type": "stream",
          "name": "stdout",
          "text": [
            "Average Sentence Length Train Set: 294\n",
            "Maximum Sentence Length Train Set: 1290\n"
          ]
        }
      ]
    },
    {
      "cell_type": "code",
      "source": [
        "lines = []\n",
        "with open('/content/drive/MyDrive/bert_data/test/test_bert_sent.txt') as f:\n",
        "    for line in f.readlines():\n",
        "        line = line.split()\n",
        "        lines.append(len(line))\n",
        "        #print(line)\n",
        "\n",
        "print(\"Average Sentence Length Test Set:\", int(sum(lines)/len(lines)))\n",
        "print(\"Maximum Sentence Length Test Set:\", max(lines))"
      ],
      "metadata": {
        "colab": {
          "base_uri": "https://localhost:8080/"
        },
        "id": "ubwnggpaEksX",
        "outputId": "b2b26450-66a3-4440-db71-e0c27c24f024"
      },
      "execution_count": null,
      "outputs": [
        {
          "output_type": "stream",
          "name": "stdout",
          "text": [
            "Average Sentence Length Test Set: 324\n",
            "Maximum Sentence Length Test Set: 1071\n"
          ]
        }
      ]
    },
    {
      "cell_type": "code",
      "source": [
        "lines = []\n",
        "with open('/content/drive/MyDrive/bert_data/dev/dev_bert_sent.txt') as f:\n",
        "    for line in f.readlines():\n",
        "        line = line.split()\n",
        "        lines.append(len(line))\n",
        "        #print(line)\n",
        "\n",
        "print(\"Average Sentence Length Dev Set:\", int(sum(lines)/len(lines)))\n",
        "print(\"Maximum Sentence Length Dev Set:\", max(lines))"
      ],
      "metadata": {
        "colab": {
          "base_uri": "https://localhost:8080/"
        },
        "id": "l0_FDyx1F2-R",
        "outputId": "0a34ee08-d4b6-4e71-cd52-f845a8dcc9c9"
      },
      "execution_count": null,
      "outputs": [
        {
          "output_type": "stream",
          "name": "stdout",
          "text": [
            "Average Sentence Length Dev Set: 208\n",
            "Maximum Sentence Length Dev Set: 602\n"
          ]
        }
      ]
    },
    {
      "cell_type": "code",
      "source": [
        "lines = []\n",
        "with open('/content/drive/MyDrive/bert_data/train/train_bert_pointer.txt') as f:\n",
        "    for line in f.readlines():\n",
        "        line = line.split()\n",
        "        lines.append(line)\n",
        "\n",
        "events = {}\n",
        "for line in lines:\n",
        "    for word in line:\n",
        "        if 'EVENT' in word:\n",
        "            events[word] = 0\n",
        "\n",
        "for line in lines:\n",
        "     collection = []   \n",
        "     for word in line:\n",
        "         if 'EVENT' in word:\n",
        "             if word not in collection:\n",
        "                 collection.append(word)\n",
        "                 events[word] += 1\n",
        "\n",
        "print(\"Number of Event Types in Train Set:\", len(events))\n",
        "print(\"Number of Sentences for Each Event Train Set:\")\n",
        "for key in events:\n",
        "    print(key, events[key])"
      ],
      "metadata": {
        "colab": {
          "base_uri": "https://localhost:8080/"
        },
        "id": "sHDo1OjcF_JG",
        "outputId": "0b7a2ffc-6c6b-44c1-d330-29dfecf7302c"
      },
      "execution_count": null,
      "outputs": [
        {
          "output_type": "stream",
          "name": "stdout",
          "text": [
            "Number of Event Types in Train Set: 35\n",
            "Number of Sentences for Each Event:\n",
            "MAN_MADE_EVENT:SHOOT_OUT 45\n",
            "NATURAL_EVENT:EARTHQUAKE 49\n",
            "MAN_MADE_EVENT:VEHICULAR_COLLISION 136\n",
            "MAN_MADE_EVENT:SURGICAL_STRIKES 17\n",
            "MAN_MADE_EVENT:TRANSPORT_HAZARDS 69\n",
            "NATURAL_EVENT:FLOODS 31\n",
            "NATURAL_EVENT:VOLCANO 12\n",
            "NATURAL_EVENT:CYCLONE 15\n",
            "MAN_MADE_EVENT:FIRE 90\n",
            "NATURAL_EVENT:BLIZZARD 2\n",
            "NATURAL_EVENT:TORNADO 11\n",
            "NATURAL_EVENT:STORM 21\n",
            "MAN_MADE_EVENT:AVIATION_HAZARD 13\n",
            "MAN_MADE_EVENT:NORMAL_BOMBING 22\n",
            "NATURAL_EVENT:LAND_SLIDE 14\n",
            "MAN_MADE_EVENT:TERRORIST_ATTACK 13\n",
            "NATURAL_EVENT:HAIL_STORMS 4\n",
            "MAN_MADE_EVENT:INDUSTRIAL_ACCIDENT 15\n",
            "NATURAL_EVENT:COLD_WAVE 7\n",
            "MAN_MADE_EVENT:TRAIN_COLLISION 14\n",
            "MAN_MADE_EVENT:SUICIDE_ATTACK 14\n",
            "NATURAL_EVENT:EPIDEMIC 2\n",
            "MAN_MADE_EVENT:RIOTS 3\n",
            "NATURAL_EVENT:HURRICANE 4\n",
            "NATURAL_EVENT:FOREST_FIRE 4\n",
            "NATURAL_EVENT:HEAT_WAVE 3\n",
            "NATURAL_EVENT:DROUGHT 1\n",
            "NATURAL_EVENT:FAMINE 1\n",
            "MAN_MADE_EVENT:ACCIDENTS 192\n",
            "MAN_MADE_EVENT:MISCELLANEOUS 27\n",
            "MAN_MADE_EVENT:CRIME 20\n",
            "NATURAL_EVENT:ROCK_FALL 1\n",
            "NATURAL_EVENT:TSUNAMI 2\n",
            "NATURAL_EVENT:AVALANCHES 2\n",
            "MAN_MADE_EVENT:ARMED_CONFLICTS 1\n"
          ]
        }
      ]
    },
    {
      "cell_type": "code",
      "source": [
        "lines = []\n",
        "with open('/content/drive/MyDrive/bert_data/test/test_bert_pointer.txt') as f:\n",
        "    for line in f.readlines():\n",
        "        line = line.split()\n",
        "        lines.append(line)\n",
        "\n",
        "events = {}\n",
        "for line in lines:\n",
        "    for word in line:\n",
        "        if 'EVENT' in word:\n",
        "            events[word] = 0\n",
        "\n",
        "for line in lines:\n",
        "     collection = []   \n",
        "     for word in line:\n",
        "         if 'EVENT' in word:\n",
        "             if word not in collection:\n",
        "                 collection.append(word)\n",
        "                 events[word] += 1\n",
        "\n",
        "print(\"Number of Event Types in Test Set:\", len(events))\n",
        "print(\"Number of Sentences for Each Event Test Set:\")\n",
        "for key in events:\n",
        "    print(key, events[key])"
      ],
      "metadata": {
        "colab": {
          "base_uri": "https://localhost:8080/"
        },
        "id": "Lf4ttqwJGQku",
        "outputId": "b62870cf-4b39-4c10-b98f-88c88ba43517"
      },
      "execution_count": null,
      "outputs": [
        {
          "output_type": "stream",
          "name": "stdout",
          "text": [
            "Number of Event Types in Test Set: 29\n",
            "Number of Sentences for Each Event Test Set:\n",
            "MAN_MADE_EVENT:SHOOT_OUT 18\n",
            "NATURAL_EVENT:FOREST_FIRE 3\n",
            "NATURAL_EVENT:AVALANCHES 2\n",
            "MAN_MADE_EVENT:NORMAL_BOMBING 12\n",
            "MAN_MADE_EVENT:SUICIDE_ATTACK 4\n",
            "NATURAL_EVENT:HEAT_WAVE 2\n",
            "MAN_MADE_EVENT:TRAIN_COLLISION 2\n",
            "MAN_MADE_EVENT:SURGICAL_STRIKES 7\n",
            "MAN_MADE_EVENT:TRANSPORT_HAZARDS 14\n",
            "MAN_MADE_EVENT:INDUSTRIAL_ACCIDENT 8\n",
            "MAN_MADE_EVENT:FIRE 41\n",
            "NATURAL_EVENT:FLOODS 6\n",
            "MAN_MADE_EVENT:VEHICULAR_COLLISION 24\n",
            "NATURAL_EVENT:STORM 8\n",
            "NATURAL_EVENT:HURRICANE 1\n",
            "NATURAL_EVENT:CYCLONE 4\n",
            "MAN_MADE_EVENT:AVIATION_HAZARD 5\n",
            "NATURAL_EVENT:EARTHQUAKE 8\n",
            "NATURAL_EVENT:HAIL_STORMS 1\n",
            "NATURAL_EVENT:TORNADO 3\n",
            "NATURAL_EVENT:VOLCANO 2\n",
            "MAN_MADE_EVENT:TERRORIST_ATTACK 3\n",
            "MAN_MADE_EVENT:ARMED_CONFLICTS 3\n",
            "NATURAL_EVENT:LAND_SLIDE 5\n",
            "MAN_MADE_EVENT:MISCELLANEOUS 7\n",
            "MAN_MADE_EVENT:CRIME 13\n",
            "MAN_MADE_EVENT:ACCIDENTS 30\n",
            "NATURAL_EVENT:DROUGHT 1\n",
            "MAN_MADE_EVENT:RIOTS 1\n"
          ]
        }
      ]
    },
    {
      "cell_type": "code",
      "source": [
        "lines = []\n",
        "with open('/content/drive/MyDrive/bert_data/dev/dev_bert_pointer.txt') as f:\n",
        "    for line in f.readlines():\n",
        "        line = line.split()\n",
        "        lines.append(line)\n",
        "\n",
        "events = {}\n",
        "for line in lines:\n",
        "    for word in line:\n",
        "        if 'EVENT' in word:\n",
        "            events[word] = 0\n",
        "\n",
        "for line in lines:\n",
        "     collection = []   \n",
        "     for word in line:\n",
        "         if 'EVENT' in word:\n",
        "             if word not in collection:\n",
        "                 collection.append(word)\n",
        "                 events[word] += 1\n",
        "\n",
        "print(\"Number of Event Types in Dev Set:\", len(events))\n",
        "print(\"Number of Sentences for Each Event Dev Set:\")\n",
        "for key in events:\n",
        "    print(key, events[key])"
      ],
      "metadata": {
        "colab": {
          "base_uri": "https://localhost:8080/"
        },
        "id": "RFDQeNz2JsVo",
        "outputId": "a08fd0c5-37fd-42bf-be05-a78284f0e0b7"
      },
      "execution_count": null,
      "outputs": [
        {
          "output_type": "stream",
          "name": "stdout",
          "text": [
            "Number of Event Types in Dev Set: 27\n",
            "Number of Sentences for Each Event Dev Set:\n",
            "NATURAL_EVENT:CYCLONE 8\n",
            "NATURAL_EVENT:STORM 16\n",
            "NATURAL_EVENT:EPIDEMIC 1\n",
            "MAN_MADE_EVENT:FIRE 19\n",
            "MAN_MADE_EVENT:NORMAL_BOMBING 6\n",
            "MAN_MADE_EVENT:SUICIDE_ATTACK 2\n",
            "NATURAL_EVENT:BLIZZARD 1\n",
            "MAN_MADE_EVENT:TRANSPORT_HAZARDS 13\n",
            "NATURAL_EVENT:EARTHQUAKE 23\n",
            "MAN_MADE_EVENT:VEHICULAR_COLLISION 16\n",
            "MAN_MADE_EVENT:SHOOT_OUT 22\n",
            "NATURAL_EVENT:FLOODS 12\n",
            "NATURAL_EVENT:VOLCANO 12\n",
            "NATURAL_EVENT:TORNADO 10\n",
            "NATURAL_EVENT:AVALANCHES 2\n",
            "NATURAL_EVENT:HAIL_STORMS 3\n",
            "MAN_MADE_EVENT:INDUSTRIAL_ACCIDENT 3\n",
            "MAN_MADE_EVENT:AVIATION_HAZARD 3\n",
            "NATURAL_EVENT:HURRICANE 5\n",
            "MAN_MADE_EVENT:TERRORIST_ATTACK 8\n",
            "NATURAL_EVENT:LAND_SLIDE 4\n",
            "NATURAL_EVENT:COLD_WAVE 4\n",
            "NATURAL_EVENT:FOREST_FIRE 3\n",
            "MAN_MADE_EVENT:SURGICAL_STRIKES 4\n",
            "MAN_MADE_EVENT:TRAIN_COLLISION 4\n",
            "MAN_MADE_EVENT:ARMED_CONFLICTS 1\n",
            "MAN_MADE_EVENT:RIOTS 1\n"
          ]
        }
      ]
    },
    {
      "cell_type": "code",
      "source": [],
      "metadata": {
        "id": "8EPtzXO4KN1z"
      },
      "execution_count": null,
      "outputs": []
    }
  ]
}